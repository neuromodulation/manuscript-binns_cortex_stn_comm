{
 "cells": [
  {
   "cell_type": "code",
   "execution_count": null,
   "metadata": {},
   "outputs": [],
   "source": [
    "\"\"\"Plot simulated OFF vs. ON ImCoh.\"\"\"\n",
    "\n",
    "import os\n",
    "import sys\n",
    "from pathlib import Path\n",
    "import numpy as np\n",
    "import copy\n",
    "import pandas as pd\n",
    "from matplotlib import pyplot as plt\n",
    "from scipy.stats import sem\n",
    "\n",
    "cd_path = Path(os.getcwd()).absolute().parent\n",
    "sys.path.append(os.path.join(cd_path, \"coherence\"))\n",
    "\n",
    "FOLDERPATH_ANALYSIS = os.path.join(cd_path, \"Project\\\\Analysis\")\n",
    "FOLDERPATH_FIGURES = os.path.join(os.path.dirname(os.getcwd()), \"figures\")\n",
    "\n",
    "lfreq = 4.0\n",
    "hfreq = 40.0\n"
   ]
  },
  {
   "cell_type": "code",
   "execution_count": null,
   "metadata": {},
   "outputs": [],
   "source": [
    "# WHOLE CORTEX <-> STN ImCoh\n",
    "data = pd.read_pickle(os.path.join(\n",
    "    FOLDERPATH_ANALYSIS, \"Results\", \"demo\", \"sub-multi\", \"ses-multi\",\n",
    "    \"task-rest_acq-demo_run-1_con_demo-DemoOffOn_multi_sub.pkl\")\n",
    ")\n",
    "freqs = copy.deepcopy(data[\"frequencies\"][0])\n",
    "freqs_delta = np.unique(np.subtract(freqs[1:], freqs[:-1]))[0]\n",
    "data[\"frequencies\"] = [freqs] * len(data[\"seed_types\"])\n",
    "data = pd.DataFrame.from_dict(data)\n",
    "\n",
    "imcoh_off = np.array(data[\"connectivity-imcoh\"][data[\"med\"] == \"Off\"].to_list())\n",
    "imcoh_on = np.array(data[\"connectivity-imcoh\"][data[\"med\"] == \"On\"].to_list())\n",
    "\n",
    "lfreq_i = freqs.index(lfreq)\n",
    "hfreq_i = freqs.index(hfreq)\n",
    "plot_freqs = freqs[lfreq_i:hfreq_i+1]\n",
    "\n",
    "imcoh_off = imcoh_off[:, lfreq_i:hfreq_i+1]\n",
    "imcoh_on = imcoh_on[:, lfreq_i:hfreq_i+1]\n",
    "\n",
    "imcoh_off_sem = sem(imcoh_off)\n",
    "imcoh_on_sem = sem(imcoh_on)\n",
    "\n",
    "fig = plt.figure()\n",
    "axis = fig.add_subplot(111)\n",
    "\n",
    "axis.plot(plot_freqs, np.mean(imcoh_off, axis=0), label=\"OFF therapy\", color=\"#DF4A4A\")\n",
    "axis.fill_between(plot_freqs, np.mean(imcoh_off, axis=0)-imcoh_off_sem,\n",
    "                  np.mean(imcoh_off, axis=0)+imcoh_off_sem, color=\"#DF4A4A\", alpha=0.3)\n",
    "\n",
    "axis.plot(plot_freqs, np.mean(imcoh_on, axis=0), label=\"ON therapy\", color=\"#376EB4\")\n",
    "axis.fill_between(plot_freqs, np.mean(imcoh_on, axis=0)-imcoh_on_sem,\n",
    "                  np.mean(imcoh_on, axis=0)+imcoh_on_sem, color=\"#376EB4\", alpha=0.3)\n",
    "\n",
    "axis.set_title(\"Cortex <--> STN\")\n",
    "axis.set_xlabel(\"Frequency (Hz)\")\n",
    "axis.set_ylabel(\"Absolute imaginary coherency (A.U.)\")\n",
    "\n",
    "axis.spines['top'].set_visible(False)\n",
    "axis.spines['right'].set_visible(False)\n",
    "axis.set_box_aspect(0.8)\n",
    "axis.legend()\n",
    "leg = axis.get_legend()\n",
    "axis.set_xticks(np.arange(5, 45, 5))\n",
    "\n",
    "fig.savefig(\"Demo_ImCoh.png\")"
   ]
  },
  {
   "cell_type": "markdown",
   "metadata": {},
   "source": [
    "The results should match those in the [`Demo_ImCoh.png`](Demo_ImCoh.png) file:\n",
    "\n",
    "<img src=\"Demo_ImCoh.png\" alt=\"Simulated ImCoh results\" width=\"45%\" height=\"45%\">"
   ]
  }
 ],
 "metadata": {
  "kernelspec": {
   "display_name": "pte",
   "language": "python",
   "name": "python3"
  },
  "language_info": {
   "codemirror_mode": {
    "name": "ipython",
    "version": 3
   },
   "file_extension": ".py",
   "mimetype": "text/x-python",
   "name": "python",
   "nbconvert_exporter": "python",
   "pygments_lexer": "ipython3",
   "version": "3.11.8"
  },
  "orig_nbformat": 4
 },
 "nbformat": 4,
 "nbformat_minor": 2
}
