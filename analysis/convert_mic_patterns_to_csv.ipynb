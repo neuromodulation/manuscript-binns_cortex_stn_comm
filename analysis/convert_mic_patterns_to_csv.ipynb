{
 "cells": [
  {
   "cell_type": "code",
   "execution_count": null,
   "metadata": {},
   "outputs": [],
   "source": [
    "\"\"\"Extract MIC spatial maps from pkl files and save them as csv files.\"\"\"\n",
    "\n",
    "import pandas as pd\n",
    "import os\n",
    "import numpy as np\n",
    "\n",
    "\n",
    "FOLDERPATH_ANALYSIS = \"Path_to\\\\Project\\\\Analysis\""
   ]
  },
  {
   "cell_type": "code",
   "execution_count": null,
   "metadata": {},
   "outputs": [],
   "source": [
    "# MED OFF & ON\n",
    "data = pd.DataFrame.from_dict(pd.read_pickle(os.path.join(\n",
    "    FOLDERPATH_ANALYSIS, \"task-Rest_acq-multi_run-multi_con_mic_topography-MedOffOn_multi_sub.pkl\")\n",
    "))\n",
    "\n",
    "# Select only the relevant columns\n",
    "data = data.rename(columns={\"connectivity-mic_topographies\": \"connectivity_mic_topographies\"})\n",
    "data = data[[\"connectivity_mic_topographies\", \"ch_names\", \"ch_coords\", \"ch_regions\", \"frequencies_band_labels\", \"sub\", \"med\"]]\n",
    "\n",
    "# Convert the coordinates from m to mm (expected by SPM)\n",
    "coords = np.array(data[\"ch_coords\"].tolist()) * 1000\n",
    "coords[:, 0] = np.abs(coords[:, 0])  # project coordinates to right hemisphere\n",
    "data[\"ch_coords\"] = list(coords)\n",
    "\n",
    "# Save the data\n",
    "data.to_csv(os.path.join(FOLDERPATH_ANALYSIS, \"mic_topographies_cortex_STN_MedOffOn.csv\"))"
   ]
  },
  {
   "cell_type": "code",
   "execution_count": null,
   "metadata": {},
   "outputs": [],
   "source": [
    "# STIM OFF & ON\n",
    "data = pd.DataFrame.from_dict(pd.read_pickle(os.path.join(\n",
    "    FOLDERPATH_ANALYSIS, \"task-Rest_acq-multi_run-multi_con_mic_topography-StimOffOn_multi_sub.pkl\")\n",
    "))\n",
    "\n",
    "# Select only the relevant columns\n",
    "data = data.rename(columns={\"connectivity-mic_topographies\": \"connectivity_mic_topographies\"})\n",
    "data = data[[\"connectivity_mic_topographies\", \"ch_names\", \"ch_coords\", \"ch_regions\", \"frequencies_band_labels\", \"sub\", \"stim\"]]\n",
    "\n",
    "# Convert the coordinates from m to mm (expected by SPM)\n",
    "coords = np.array(data[\"ch_coords\"].tolist()) * 1000\n",
    "coords[:, 0] = np.abs(coords[:, 0])  # project coordinates to right hemisphere\n",
    "data[\"ch_coords\"] = list(coords)\n",
    "\n",
    "# Save the data\n",
    "data.to_csv(os.path.join(FOLDERPATH_ANALYSIS, \"mic_topographies_cortex_STN_StimOffOn.csv\"))"
   ]
  }
 ],
 "metadata": {
  "kernelspec": {
   "display_name": "manuscript-binns_cortex_stn_comm",
   "language": "python",
   "name": "python3"
  },
  "language_info": {
   "name": "python",
   "version": "3.11.8"
  }
 },
 "nbformat": 4,
 "nbformat_minor": 2
}
