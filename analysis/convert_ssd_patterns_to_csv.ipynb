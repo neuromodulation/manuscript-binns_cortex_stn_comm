{
 "cells": [
  {
   "cell_type": "code",
   "execution_count": null,
   "metadata": {},
   "outputs": [],
   "source": [
    "\"\"\"Extract SSD spatial maps from pkl files and save them as csv files.\"\"\"\n",
    "\n",
    "import pandas as pd\n",
    "import os\n",
    "import numpy as np\n",
    "\n",
    "\n",
    "FOLDERPATH_ANALYSIS = \"Path_to\\\\Project\\\\Analysis\""
   ]
  },
  {
   "cell_type": "code",
   "execution_count": null,
   "metadata": {},
   "outputs": [],
   "source": [
    "# MED OFF & ON\n",
    "data = pd.DataFrame.from_dict(pd.read_pickle(os.path.join(\n",
    "    FOLDERPATH_ANALYSIS, \"task-Rest_acq-multi_run-multi_pow_ssd_topography-MedOffOn_multi_sub.pkl\")\n",
    "))\n",
    "\n",
    "# Select only the relevant columns\n",
    "data = data[[\"ssd_topographies\", \"ch_names\", \"ch_coords\", \"ch_regions\", \"band_names\", \"sub\", \"med\"]]\n",
    "\n",
    "# Select only the first component\n",
    "data = data[(data[\"component_numbers\"] == 1)]\n",
    "data = data.reset_index(drop=True)\n",
    "\n",
    "# Convert the coordinates from m to mm (expected by SPM)\n",
    "coords = np.array(data[\"ch_coords\"].tolist()) * 1000\n",
    "coords[:, 0] = np.abs(coords[:, 0])  # project coordinates to right hemisphere\n",
    "data[\"ch_coords\"] = list(coords)\n",
    "\n",
    "# Save the data\n",
    "data.to_csv(os.path.join(FOLDERPATH_ANALYSIS, \"ssd_topographies_cortex_STN_MedOffOn.csv\"))"
   ]
  },
  {
   "cell_type": "code",
   "execution_count": null,
   "metadata": {},
   "outputs": [],
   "source": [
    "# STIM OFF & ON\n",
    "data = pd.DataFrame.from_dict(pd.read_pickle(os.path.join(\n",
    "    FOLDERPATH_ANALYSIS, \"task-Rest_acq-multi_run-multi_pow_ssd_topography-StimOffOn_multi_sub.pkl\")\n",
    "))\n",
    "\n",
    "# Select only the relevant columns\n",
    "data = data[[\"ssd_topographies\", \"ch_names\", \"ch_coords\", \"ch_regions\", \"band_names\", \"sub\", \"med\"]]\n",
    "\n",
    "# Select only the first component\n",
    "data = data[data[\"component_numbers\"] == 1]\n",
    "data = data.reset_index(drop=True)\n",
    "\n",
    "# Convert the coordinates from m to mm (expected by SPM)\n",
    "coords = np.array(data[\"ch_coords\"].tolist()) * 1000\n",
    "coords[:, 0] = np.abs(coords[:, 0])  # project coordinates to right hemisphere\n",
    "data[\"ch_coords\"] = list(coords)\n",
    "\n",
    "# Save the data\n",
    "data.to_csv(os.path.join(FOLDERPATH_ANALYSIS, \"ssd_topographies_cortex_STN_StimOffOn.csv\"))"
   ]
  }
 ],
 "metadata": {
  "kernelspec": {
   "display_name": "manuscript-binns_cortex_stn_comm",
   "language": "python",
   "name": "python3"
  },
  "language_info": {
   "name": "python",
   "version": "3.11.8"
  }
 },
 "nbformat": 4,
 "nbformat_minor": 2
}
